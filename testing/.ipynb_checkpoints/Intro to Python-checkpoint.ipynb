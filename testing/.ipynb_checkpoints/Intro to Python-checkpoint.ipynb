{
 "cells": [
  {
   "cell_type": "markdown",
   "metadata": {},
   "source": [
    "# Introduction to Python\n"
   ]
  },
  {
   "cell_type": "code",
   "execution_count": 106,
   "metadata": {
    "collapsed": true
   },
   "outputs": [],
   "source": [
    "# The following are the libraries used in this notebook\n",
    "%matplotlib inline\n",
    "import numpy as np\n",
    "import matplotlib.pyplot as plt"
   ]
  },
  {
   "cell_type": "markdown",
   "metadata": {},
   "source": [
    "## Basic Python Commands"
   ]
  },
  {
   "cell_type": "code",
   "execution_count": 107,
   "metadata": {
    "scrolled": true
   },
   "outputs": [
    {
     "name": "stdout",
     "output_type": "stream",
     "text": [
      "Hello World\n"
     ]
    }
   ],
   "source": [
    "print(\"Hello World\")"
   ]
  },
  {
   "cell_type": "code",
   "execution_count": 108,
   "metadata": {},
   "outputs": [
    {
     "name": "stdout",
     "output_type": "stream",
     "text": [
      "34 123.456\n"
     ]
    }
   ],
   "source": [
    "x = 34\n",
    "y = 123.456\n",
    "print (x, y)"
   ]
  },
  {
   "cell_type": "code",
   "execution_count": 109,
   "metadata": {},
   "outputs": [
    {
     "name": "stdout",
     "output_type": "stream",
     "text": [
      "123456789012345678901234567890 123123123123123123123123 123.456789\n",
      "15200385433952470975827664329614566047529024172320470\n"
     ]
    }
   ],
   "source": [
    "# Variables and math\n",
    "x = 123456789012345678901234567890\n",
    "y = 123123123123123123123123\n",
    "z = 123.456789\n",
    "print (x, y, z)\n",
    "print (x * y)"
   ]
  },
  {
   "cell_type": "code",
   "execution_count": 110,
   "metadata": {},
   "outputs": [
    {
     "name": "stdout",
     "output_type": "stream",
     "text": [
      "0 0 0 0 0 0 0\n",
      "1 1 1 1 1 1 1\n",
      "2 4 8 16 32 64 128\n",
      "3 9 27 81 243 729 2187\n",
      "4 16 64 256 1024 4096 16384\n",
      "5 25 125 625 3125 15625 78125\n",
      "6 36 216 1296 7776 46656 279936\n",
      "7 49 343 2401 16807 117649 823543\n",
      "8 64 512 4096 32768 262144 2097152\n",
      "9 81 729 6561 59049 531441 4782969\n"
     ]
    }
   ],
   "source": [
    "# For loop\n",
    "for i in range(10):\n",
    "    print(i, i ** 2, i ** 3, i ** 4, i ** 5, i ** 6, i ** 7)"
   ]
  },
  {
   "cell_type": "code",
   "execution_count": 111,
   "metadata": {},
   "outputs": [
    {
     "name": "stdout",
     "output_type": "stream",
     "text": [
      "141741726010355877021425242397614266850230984328921683301904823759475770823898618248937223189974698092198272832940279328576746286288246412163586040073071625403994235108484654701851813111412522017073436551977468182566355508096008844818770030666259103383549754706584982939339385133685051351671665495459484240707105912956546726469283110832013048361267258779772354758935887424049533897842706489170079845902824088981773992924362039029250020367962086497153391426082783460157920931418912062690190445848693672762290558236738881832546715962674705459956895378670356212279994168084514114818989630510464134483945722383050790176271852886739698177596517655470069835676583069071363091251912629058336230389234503573930897227480759410337695934859367858714793296706039210143078982981706101059862119667407317346718937443597566001\n"
     ]
    }
   ],
   "source": [
    "# Large integer\n",
    "x = 123456789\n",
    "print (x ** 100)"
   ]
  },
  {
   "cell_type": "code",
   "execution_count": 112,
   "metadata": {},
   "outputs": [
    {
     "name": "stdout",
     "output_type": "stream",
     "text": [
      "In function: 23\n"
     ]
    }
   ],
   "source": [
    "# Function definition\n",
    "def fun(x):\n",
    "    print('In function:', x)\n",
    "\n",
    "fun(23)"
   ]
  },
  {
   "cell_type": "markdown",
   "metadata": {},
   "source": [
    "## Numpy examples"
   ]
  },
  {
   "cell_type": "markdown",
   "metadata": {},
   "source": [
    "Documentation on [Numpy](https://docs.scipy.org/doc/numpy-dev/user/quickstart.html)"
   ]
  },
  {
   "cell_type": "code",
   "execution_count": 113,
   "metadata": {
    "scrolled": true
   },
   "outputs": [
    {
     "name": "stdout",
     "output_type": "stream",
     "text": [
      "[ 1  4  7 23 12]\n"
     ]
    }
   ],
   "source": [
    "# Simple array\n",
    "x = np.array([1, 4, 7, 23, 12])\n",
    "print(x)"
   ]
  },
  {
   "cell_type": "code",
   "execution_count": 114,
   "metadata": {
    "scrolled": true
   },
   "outputs": [
    {
     "name": "stdout",
     "output_type": "stream",
     "text": [
      "[0 1 2 3 4 5 6 7 8 9]\n"
     ]
    }
   ],
   "source": [
    "# Using arange()\n",
    "y = np.arange(10)\n",
    "print(y)"
   ]
  },
  {
   "cell_type": "code",
   "execution_count": 115,
   "metadata": {
    "scrolled": true
   },
   "outputs": [
    {
     "name": "stdout",
     "output_type": "stream",
     "text": [
      "[ 0.   0.1  0.2  0.3  0.4  0.5  0.6  0.7  0.8  0.9  1.   1.1  1.2  1.3  1.4\n",
      "  1.5  1.6  1.7  1.8  1.9  2.   2.1  2.2  2.3  2.4  2.5  2.6  2.7  2.8  2.9\n",
      "  3.   3.1  3.2  3.3  3.4  3.5  3.6  3.7  3.8  3.9  4.   4.1  4.2  4.3  4.4\n",
      "  4.5  4.6  4.7  4.8  4.9  5.   5.1  5.2  5.3  5.4  5.5  5.6  5.7  5.8  5.9\n",
      "  6.   6.1  6.2  6.3  6.4  6.5  6.6  6.7  6.8  6.9  7.   7.1  7.2  7.3  7.4\n",
      "  7.5  7.6  7.7  7.8  7.9  8.   8.1  8.2  8.3  8.4  8.5  8.6  8.7  8.8  8.9\n",
      "  9.   9.1  9.2  9.3  9.4  9.5  9.6  9.7  9.8  9.9]\n"
     ]
    }
   ],
   "source": [
    "# Range of numbers from 0 to 100 increament by 0.1\n",
    "y = np.arange(0, 10, 0.1)\n",
    "print(y)"
   ]
  },
  {
   "cell_type": "code",
   "execution_count": 116,
   "metadata": {
    "scrolled": true
   },
   "outputs": [
    {
     "name": "stdout",
     "output_type": "stream",
     "text": [
      "[  0.           0.45454545   0.90909091   1.36363636   1.81818182\n",
      "   2.27272727   2.72727273   3.18181818   3.63636364   4.09090909\n",
      "   4.54545455   5.           5.45454545   5.90909091   6.36363636\n",
      "   6.81818182   7.27272727   7.72727273   8.18181818   8.63636364\n",
      "   9.09090909   9.54545455  10.        ]\n"
     ]
    }
   ],
   "source": [
    "# Range of 23 values from 0 to 10\n",
    "y = np.linspace( 0, 10, 23 )\n",
    "print(y)"
   ]
  },
  {
   "cell_type": "code",
   "execution_count": 117,
   "metadata": {
    "scrolled": true
   },
   "outputs": [
    {
     "name": "stdout",
     "output_type": "stream",
     "text": [
      "[[ 0  1  2  3  4]\n",
      " [ 5  6  7  8  9]\n",
      " [10 11 12 13 14]\n",
      " [15 16 17 18 19]\n",
      " [20 21 22 23 24]]\n",
      "Sum =  300\n",
      "Average =  12.0\n",
      "Mean =  12.0\n",
      "smallest =  0\n",
      "largest =  24\n",
      "[[ 0  1  2  3  4]\n",
      " [ 5  6  7  8  9]\n",
      " [10 11 99 13 14]\n",
      " [15 16 17 18 19]\n",
      " [20 21 22 23 24]]\n"
     ]
    }
   ],
   "source": [
    "# Some numpy functions\n",
    "z = np.arange(25).reshape(5, 5)\n",
    "print(z)\n",
    "print('Sum = ', np.sum(z))\n",
    "print('Average = ', np.average(z))\n",
    "print('Mean = ', np.mean(z))\n",
    "print('smallest = ', np.amin(z))\n",
    "print('largest = ', np.amax(z))\n",
    "n = z[:]\n",
    "n[2][2] = 99\n",
    "print(n)"
   ]
  },
  {
   "cell_type": "code",
   "execution_count": 118,
   "metadata": {
    "scrolled": true
   },
   "outputs": [
    {
     "name": "stdout",
     "output_type": "stream",
     "text": [
      "[[ 0.89538267  0.12834876  0.59997173  0.80239204  0.43786   ]\n",
      " [ 0.23992258  0.62309164  0.86296121  0.30117817  0.05837108]\n",
      " [ 0.66702535  0.12184906  0.44689745  0.85803622  0.61121389]\n",
      " [ 0.32709588  0.33344602  0.83673262  0.66170901  0.68219677]\n",
      " [ 0.17707318  0.80110308  0.27685243  0.66177498  0.08195114]]\n",
      "Sum =  12.4944369468\n",
      "Average =  0.499777477874\n",
      "Mean =  0.499777477874\n",
      "smallest =  0.0583710821737\n",
      "largest =  0.89538266512\n"
     ]
    }
   ],
   "source": [
    "# numpy random function\n",
    "z = np.random.rand(5, 5)\n",
    "print(z)\n",
    "print('Sum = ', np.sum(z))\n",
    "print('Average = ', np.average(z))\n",
    "print('Mean = ', np.mean(z))\n",
    "print('smallest = ', np.amin(z))\n",
    "print('largest = ', np.amax(z))"
   ]
  },
  {
   "cell_type": "markdown",
   "metadata": {},
   "source": [
    "## MatPlotLib"
   ]
  },
  {
   "cell_type": "code",
   "execution_count": 119,
   "metadata": {
    "scrolled": true
   },
   "outputs": [
    {
     "data": {
      "image/png": "[encoded data removed]",
      "text/plain": [
       "<matplotlib.figure.Figure at 0x28d98f41e80>"
      ]
     },
     "metadata": {},
     "output_type": "display_data"
    }
   ],
   "source": [
    "from matplotlib.pyplot import figure, show\n",
    "from numpy import arange, sin, pi\n",
    "\n",
    "t = arange(0.0, 1.0, 0.01)\n",
    "\n",
    "fig = figure(1)\n",
    "\n",
    "ax1 = fig.add_subplot(211)\n",
    "ax1.plot(t, sin(2*pi*t))\n",
    "ax1.grid(True)\n",
    "ax1.set_ylim((-2, 2))\n",
    "ax1.set_ylabel('1 Hz')\n",
    "ax1.set_title('A sine wave or two')\n",
    "\n",
    "for label in ax1.get_xticklabels():\n",
    "    label.set_color('r')\n",
    "\n",
    "ax2 = fig.add_subplot(212)\n",
    "ax2.plot(t, sin(2*2*pi*t))\n",
    "ax2.grid(True)\n",
    "ax2.set_ylim((-2, 2))\n",
    "l = ax2.set_xlabel('Label')\n",
    "l.set_color('g')\n",
    "l.set_fontsize('large')"
   ]
  }
 ],
 "metadata": {
  "kernelspec": {
   "display_name": "Python 3",
   "language": "python",
   "name": "python3"
  },
  "language_info": {
   "codemirror_mode": {
    "name": "ipython",
    "version": 3
   },
   "file_extension": ".py",
   "mimetype": "text/x-python",
   "name": "python",
   "nbconvert_exporter": "python",
   "pygments_lexer": "ipython3",
   "version": "3.6.2"
  }
 },
 "nbformat": 4,
 "nbformat_minor": 2
}
